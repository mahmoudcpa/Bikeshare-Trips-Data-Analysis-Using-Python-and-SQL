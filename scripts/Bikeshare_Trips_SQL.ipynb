import pandas as pd
import matplotlib.pyplot as plt
import seaborn as sns

import warnings
warnings.filterwarnings('ignore')

df = pd.read_csv(
    "F:\\Mn\\MN_Learn\\Data_Analysis\\Bikeshare_Trips\\bikeshare_trips.csv"
)

import pyodbc as odbc

driver = 'SQL Server'  # Or 'ODBC Driver 17 for SQL Server' if available
server = 'localhost\\SQLEXPRESS'  # Use double backslashes
database = 'BikeShareTrips'

try:
    conn = odbc.connect(
        f'DRIVER={{{driver}}};'
        f'SERVER={server};'
        f'DATABASE={database};'
        'Trusted_Connection=yes;'
    )
    
    cursor = conn.cursor()
    cursor.execute("SELECT GETDATE()")
    print(cursor.fetchone())
    print("✅ Connected to SQL Server")
except Exception as e:
    print("❌ Connection failed:", e)


print(odbc.drivers())


tables = pd.read_sql("SELECT * FROM INFORMATION_SCHEMA.TABLES", conn)


columns = pd.read_sql("SELECT * FROM INFORMATION_SCHEMA.COLUMNS  WHERE TABLE_NAME = 'bikeshare_trips'", conn)

query = """
    SELECT
        start_station_name,
    	COUNT(*) AS total_trips,
    	SUM(duration_sec) / 60 AS total_duration_minutes,
    	AVG(duration_sec) / 60 AS avg_duration_minutes
    FROM dbo.bikeshare_trips
    WHERE duration_sec IS NOT NULL
    GROUP BY start_station_name
    ORDER BY total_duration_minutes DESC
"""


station_name_stats = pd.read_sql_query(query, conn)

top10_stations_avg_trip = top10_stations.sort_values(
    by='avg_duration_minutes', ascending=False
)

plt.figure(figsize=(12, 6))

sns.barplot(top10_stations_avg_trip,
            x='start_station_name', 
            y='avg_duration_minutes')
plt.xticks(rotation=45, ha='right')
plt.title('Top 10 Stations by Average Trip Duration')
plt.xlabel('Start Station')
plt.ylabel('Average Duration Minutes')


plt.show()


top10_stations_total_trip_minutes = top10_stations.sort_values(
    by='total_duration_minutes', ascending=False
)

plt.figure(figsize=(12, 6))

sns.barplot(top10_stations_total_trip_minutes,
            x='start_station_name', 
            y='total_duration_minutes')
plt.xticks(rotation=45, ha='right')
plt.title('Top 10 Stations by Total Trip Minutes')
plt.xlabel('Start Station')
plt.ylabel('Total Trip Minutess')


plt.show()


